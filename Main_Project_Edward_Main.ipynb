{
 "cells": [
  {
   "cell_type": "markdown",
   "id": "a57f7f0c-0ffb-4455-9091-73f4fac0402a",
   "metadata": {},
   "source": [
    "# Gold / Silver Price Analysis"
   ]
  },
  {
   "cell_type": "markdown",
   "id": "ebcce73a-97f9-40e2-85e5-4819d23ad6b9",
   "metadata": {},
   "source": [
    "### By: Edward, Yoksean, Vanthy"
   ]
  },
  {
   "cell_type": "markdown",
   "id": "396c7b43-bcb8-49a1-8b60-c9370505af4d",
   "metadata": {},
   "source": [
    "### Step 1: Import Modules to use"
   ]
  },
  {
   "cell_type": "code",
   "execution_count": 32,
   "id": "aaacb17c-9eb5-446a-8b2c-36b3ce99ca83",
   "metadata": {
    "tags": []
   },
   "outputs": [],
   "source": [
    "import pandas as pd\n",
    "import matplotlib.pyplot as plt\n",
    "import numpy as np\n",
    "import seaborn as sns"
   ]
  },
  {
   "cell_type": "markdown",
   "id": "034ec147-bff1-46d3-8c56-4fddbecb692c",
   "metadata": {},
   "source": [
    "### Step 2: Open csv files using pandas"
   ]
  },
  {
   "cell_type": "code",
   "execution_count": 114,
   "id": "28e5b52e-ec6d-460c-a7d7-a57bfa838b31",
   "metadata": {
    "tags": []
   },
   "outputs": [],
   "source": [
    "#Read files\n",
    "gold_df = pd.read_csv('Gold_Silver_Analysis/gold_prices.csv')\n",
    "silver_df = pd.read_csv('Gold_Silver_Analysis/silver_prices.csv')"
   ]
  },
  {
   "cell_type": "code",
   "execution_count": 115,
   "id": "68da3c2d",
   "metadata": {
    "tags": []
   },
   "outputs": [
    {
     "data": {
      "text/html": [
       "<div>\n",
       "<style scoped>\n",
       "    .dataframe tbody tr th:only-of-type {\n",
       "        vertical-align: middle;\n",
       "    }\n",
       "\n",
       "    .dataframe tbody tr th {\n",
       "        vertical-align: top;\n",
       "    }\n",
       "\n",
       "    .dataframe thead th {\n",
       "        text-align: right;\n",
       "    }\n",
       "</style>\n",
       "<table border=\"1\" class=\"dataframe\">\n",
       "  <thead>\n",
       "    <tr style=\"text-align: right;\">\n",
       "      <th></th>\n",
       "      <th>Date</th>\n",
       "      <th>Close/Last</th>\n",
       "      <th>Volume</th>\n",
       "      <th>Open</th>\n",
       "      <th>High</th>\n",
       "      <th>Low</th>\n",
       "    </tr>\n",
       "  </thead>\n",
       "  <tbody>\n",
       "    <tr>\n",
       "      <th>0</th>\n",
       "      <td>08/17/2023</td>\n",
       "      <td>1915.2</td>\n",
       "      <td>146770.0</td>\n",
       "      <td>1922.4</td>\n",
       "      <td>1933.5</td>\n",
       "      <td>1914.2</td>\n",
       "    </tr>\n",
       "    <tr>\n",
       "      <th>1</th>\n",
       "      <td>08/16/2023</td>\n",
       "      <td>1928.3</td>\n",
       "      <td>124766.0</td>\n",
       "      <td>1933.1</td>\n",
       "      <td>1938.2</td>\n",
       "      <td>1922.0</td>\n",
       "    </tr>\n",
       "    <tr>\n",
       "      <th>2</th>\n",
       "      <td>08/15/2023</td>\n",
       "      <td>1935.2</td>\n",
       "      <td>161512.0</td>\n",
       "      <td>1939.4</td>\n",
       "      <td>1944.3</td>\n",
       "      <td>1927.5</td>\n",
       "    </tr>\n",
       "    <tr>\n",
       "      <th>3</th>\n",
       "      <td>08/14/2023</td>\n",
       "      <td>1944.0</td>\n",
       "      <td>117514.0</td>\n",
       "      <td>1945.6</td>\n",
       "      <td>1948.2</td>\n",
       "      <td>1934.2</td>\n",
       "    </tr>\n",
       "    <tr>\n",
       "      <th>4</th>\n",
       "      <td>08/11/2023</td>\n",
       "      <td>1946.6</td>\n",
       "      <td>119090.0</td>\n",
       "      <td>1944.9</td>\n",
       "      <td>1953.6</td>\n",
       "      <td>1942.7</td>\n",
       "    </tr>\n",
       "    <tr>\n",
       "      <th>...</th>\n",
       "      <td>...</td>\n",
       "      <td>...</td>\n",
       "      <td>...</td>\n",
       "      <td>...</td>\n",
       "      <td>...</td>\n",
       "      <td>...</td>\n",
       "    </tr>\n",
       "    <tr>\n",
       "      <th>2534</th>\n",
       "      <td>08/23/2013</td>\n",
       "      <td>1395.8</td>\n",
       "      <td>149116.0</td>\n",
       "      <td>1376.1</td>\n",
       "      <td>1399.9</td>\n",
       "      <td>1367.8</td>\n",
       "    </tr>\n",
       "    <tr>\n",
       "      <th>2535</th>\n",
       "      <td>08/22/2013</td>\n",
       "      <td>1370.8</td>\n",
       "      <td>134493.0</td>\n",
       "      <td>1365.6</td>\n",
       "      <td>1381.4</td>\n",
       "      <td>1354.5</td>\n",
       "    </tr>\n",
       "    <tr>\n",
       "      <th>2536</th>\n",
       "      <td>08/21/2013</td>\n",
       "      <td>1370.1</td>\n",
       "      <td>137350.0</td>\n",
       "      <td>1371.0</td>\n",
       "      <td>1378.9</td>\n",
       "      <td>1359.2</td>\n",
       "    </tr>\n",
       "    <tr>\n",
       "      <th>2537</th>\n",
       "      <td>08/20/2013</td>\n",
       "      <td>1372.6</td>\n",
       "      <td>130096.0</td>\n",
       "      <td>1364.9</td>\n",
       "      <td>1378.0</td>\n",
       "      <td>1351.6</td>\n",
       "    </tr>\n",
       "    <tr>\n",
       "      <th>2538</th>\n",
       "      <td>08/19/2013</td>\n",
       "      <td>1365.7</td>\n",
       "      <td>116056.0</td>\n",
       "      <td>1377.1</td>\n",
       "      <td>1384.1</td>\n",
       "      <td>1362.0</td>\n",
       "    </tr>\n",
       "  </tbody>\n",
       "</table>\n",
       "<p>2539 rows × 6 columns</p>\n",
       "</div>"
      ],
      "text/plain": [
       "            Date  Close/Last    Volume    Open    High     Low\n",
       "0     08/17/2023      1915.2  146770.0  1922.4  1933.5  1914.2\n",
       "1     08/16/2023      1928.3  124766.0  1933.1  1938.2  1922.0\n",
       "2     08/15/2023      1935.2  161512.0  1939.4  1944.3  1927.5\n",
       "3     08/14/2023      1944.0  117514.0  1945.6  1948.2  1934.2\n",
       "4     08/11/2023      1946.6  119090.0  1944.9  1953.6  1942.7\n",
       "...          ...         ...       ...     ...     ...     ...\n",
       "2534  08/23/2013      1395.8  149116.0  1376.1  1399.9  1367.8\n",
       "2535  08/22/2013      1370.8  134493.0  1365.6  1381.4  1354.5\n",
       "2536  08/21/2013      1370.1  137350.0  1371.0  1378.9  1359.2\n",
       "2537  08/20/2013      1372.6  130096.0  1364.9  1378.0  1351.6\n",
       "2538  08/19/2013      1365.7  116056.0  1377.1  1384.1  1362.0\n",
       "\n",
       "[2539 rows x 6 columns]"
      ]
     },
     "execution_count": 115,
     "metadata": {},
     "output_type": "execute_result"
    }
   ],
   "source": [
    "#Display DataFrame for gold prices\n",
    "gold_df"
   ]
  },
  {
   "cell_type": "markdown",
   "id": "7f89c668-6ff9-4e7e-b8fd-28251e61223b",
   "metadata": {},
   "source": [
    "#### We use [::-1] to sort the data in order of 2012 - 2023"
   ]
  },
  {
   "cell_type": "code",
   "execution_count": 66,
   "id": "4f002851-0947-4998-8c91-230d805d23c6",
   "metadata": {
    "tags": []
   },
   "outputs": [
    {
     "data": {
      "text/html": [
       "<div>\n",
       "<style scoped>\n",
       "    .dataframe tbody tr th:only-of-type {\n",
       "        vertical-align: middle;\n",
       "    }\n",
       "\n",
       "    .dataframe tbody tr th {\n",
       "        vertical-align: top;\n",
       "    }\n",
       "\n",
       "    .dataframe thead th {\n",
       "        text-align: right;\n",
       "    }\n",
       "</style>\n",
       "<table border=\"1\" class=\"dataframe\">\n",
       "  <thead>\n",
       "    <tr style=\"text-align: right;\">\n",
       "      <th></th>\n",
       "      <th>Date</th>\n",
       "      <th>Close/Last</th>\n",
       "      <th>Volume</th>\n",
       "      <th>Open</th>\n",
       "      <th>High</th>\n",
       "      <th>Low</th>\n",
       "    </tr>\n",
       "  </thead>\n",
       "  <tbody>\n",
       "    <tr>\n",
       "      <th>2538</th>\n",
       "      <td>08/19/2013</td>\n",
       "      <td>1365.7</td>\n",
       "      <td>116056.0</td>\n",
       "      <td>1377.1</td>\n",
       "      <td>1384.1</td>\n",
       "      <td>1362.0</td>\n",
       "    </tr>\n",
       "    <tr>\n",
       "      <th>2537</th>\n",
       "      <td>08/20/2013</td>\n",
       "      <td>1372.6</td>\n",
       "      <td>130096.0</td>\n",
       "      <td>1364.9</td>\n",
       "      <td>1378.0</td>\n",
       "      <td>1351.6</td>\n",
       "    </tr>\n",
       "    <tr>\n",
       "      <th>2536</th>\n",
       "      <td>08/21/2013</td>\n",
       "      <td>1370.1</td>\n",
       "      <td>137350.0</td>\n",
       "      <td>1371.0</td>\n",
       "      <td>1378.9</td>\n",
       "      <td>1359.2</td>\n",
       "    </tr>\n",
       "    <tr>\n",
       "      <th>2535</th>\n",
       "      <td>08/22/2013</td>\n",
       "      <td>1370.8</td>\n",
       "      <td>134493.0</td>\n",
       "      <td>1365.6</td>\n",
       "      <td>1381.4</td>\n",
       "      <td>1354.5</td>\n",
       "    </tr>\n",
       "    <tr>\n",
       "      <th>2534</th>\n",
       "      <td>08/23/2013</td>\n",
       "      <td>1395.8</td>\n",
       "      <td>149116.0</td>\n",
       "      <td>1376.1</td>\n",
       "      <td>1399.9</td>\n",
       "      <td>1367.8</td>\n",
       "    </tr>\n",
       "    <tr>\n",
       "      <th>...</th>\n",
       "      <td>...</td>\n",
       "      <td>...</td>\n",
       "      <td>...</td>\n",
       "      <td>...</td>\n",
       "      <td>...</td>\n",
       "      <td>...</td>\n",
       "    </tr>\n",
       "    <tr>\n",
       "      <th>4</th>\n",
       "      <td>08/11/2023</td>\n",
       "      <td>1946.6</td>\n",
       "      <td>119090.0</td>\n",
       "      <td>1944.9</td>\n",
       "      <td>1953.6</td>\n",
       "      <td>1942.7</td>\n",
       "    </tr>\n",
       "    <tr>\n",
       "      <th>3</th>\n",
       "      <td>08/14/2023</td>\n",
       "      <td>1944.0</td>\n",
       "      <td>117514.0</td>\n",
       "      <td>1945.6</td>\n",
       "      <td>1948.2</td>\n",
       "      <td>1934.2</td>\n",
       "    </tr>\n",
       "    <tr>\n",
       "      <th>2</th>\n",
       "      <td>08/15/2023</td>\n",
       "      <td>1935.2</td>\n",
       "      <td>161512.0</td>\n",
       "      <td>1939.4</td>\n",
       "      <td>1944.3</td>\n",
       "      <td>1927.5</td>\n",
       "    </tr>\n",
       "    <tr>\n",
       "      <th>1</th>\n",
       "      <td>08/16/2023</td>\n",
       "      <td>1928.3</td>\n",
       "      <td>124766.0</td>\n",
       "      <td>1933.1</td>\n",
       "      <td>1938.2</td>\n",
       "      <td>1922.0</td>\n",
       "    </tr>\n",
       "    <tr>\n",
       "      <th>0</th>\n",
       "      <td>08/17/2023</td>\n",
       "      <td>1915.2</td>\n",
       "      <td>146770.0</td>\n",
       "      <td>1922.4</td>\n",
       "      <td>1933.5</td>\n",
       "      <td>1914.2</td>\n",
       "    </tr>\n",
       "  </tbody>\n",
       "</table>\n",
       "<p>2539 rows × 6 columns</p>\n",
       "</div>"
      ],
      "text/plain": [
       "            Date  Close/Last    Volume    Open    High     Low\n",
       "2538  08/19/2013      1365.7  116056.0  1377.1  1384.1  1362.0\n",
       "2537  08/20/2013      1372.6  130096.0  1364.9  1378.0  1351.6\n",
       "2536  08/21/2013      1370.1  137350.0  1371.0  1378.9  1359.2\n",
       "2535  08/22/2013      1370.8  134493.0  1365.6  1381.4  1354.5\n",
       "2534  08/23/2013      1395.8  149116.0  1376.1  1399.9  1367.8\n",
       "...          ...         ...       ...     ...     ...     ...\n",
       "4     08/11/2023      1946.6  119090.0  1944.9  1953.6  1942.7\n",
       "3     08/14/2023      1944.0  117514.0  1945.6  1948.2  1934.2\n",
       "2     08/15/2023      1935.2  161512.0  1939.4  1944.3  1927.5\n",
       "1     08/16/2023      1928.3  124766.0  1933.1  1938.2  1922.0\n",
       "0     08/17/2023      1915.2  146770.0  1922.4  1933.5  1914.2\n",
       "\n",
       "[2539 rows x 6 columns]"
      ]
     },
     "execution_count": 66,
     "metadata": {},
     "output_type": "execute_result"
    }
   ],
   "source": [
    "#Sort the date from least to most\n",
    "gold_df[::-1]"
   ]
  },
  {
   "cell_type": "code",
   "execution_count": 57,
   "id": "c977af0e",
   "metadata": {
    "scrolled": true,
    "tags": []
   },
   "outputs": [
    {
     "data": {
      "text/html": [
       "<div>\n",
       "<style scoped>\n",
       "    .dataframe tbody tr th:only-of-type {\n",
       "        vertical-align: middle;\n",
       "    }\n",
       "\n",
       "    .dataframe tbody tr th {\n",
       "        vertical-align: top;\n",
       "    }\n",
       "\n",
       "    .dataframe thead th {\n",
       "        text-align: right;\n",
       "    }\n",
       "</style>\n",
       "<table border=\"1\" class=\"dataframe\">\n",
       "  <thead>\n",
       "    <tr style=\"text-align: right;\">\n",
       "      <th></th>\n",
       "      <th>Date</th>\n",
       "      <th>Close/Last</th>\n",
       "      <th>Volume</th>\n",
       "      <th>Open</th>\n",
       "      <th>High</th>\n",
       "      <th>Low</th>\n",
       "    </tr>\n",
       "  </thead>\n",
       "  <tbody>\n",
       "    <tr>\n",
       "      <th>2538</th>\n",
       "      <td>08/19/2013</td>\n",
       "      <td>23.215</td>\n",
       "      <td>8249.0</td>\n",
       "      <td>23.330</td>\n",
       "      <td>23.640</td>\n",
       "      <td>23.010</td>\n",
       "    </tr>\n",
       "    <tr>\n",
       "      <th>2537</th>\n",
       "      <td>08/20/2013</td>\n",
       "      <td>23.118</td>\n",
       "      <td>14280.0</td>\n",
       "      <td>23.200</td>\n",
       "      <td>23.350</td>\n",
       "      <td>22.320</td>\n",
       "    </tr>\n",
       "    <tr>\n",
       "      <th>2536</th>\n",
       "      <td>08/21/2013</td>\n",
       "      <td>23.009</td>\n",
       "      <td>7326.0</td>\n",
       "      <td>23.020</td>\n",
       "      <td>23.400</td>\n",
       "      <td>22.810</td>\n",
       "    </tr>\n",
       "    <tr>\n",
       "      <th>2535</th>\n",
       "      <td>08/22/2013</td>\n",
       "      <td>23.080</td>\n",
       "      <td>12238.0</td>\n",
       "      <td>22.920</td>\n",
       "      <td>23.365</td>\n",
       "      <td>22.500</td>\n",
       "    </tr>\n",
       "    <tr>\n",
       "      <th>2534</th>\n",
       "      <td>08/23/2013</td>\n",
       "      <td>23.781</td>\n",
       "      <td>20102.0</td>\n",
       "      <td>23.235</td>\n",
       "      <td>24.140</td>\n",
       "      <td>22.935</td>\n",
       "    </tr>\n",
       "    <tr>\n",
       "      <th>...</th>\n",
       "      <td>...</td>\n",
       "      <td>...</td>\n",
       "      <td>...</td>\n",
       "      <td>...</td>\n",
       "      <td>...</td>\n",
       "      <td>...</td>\n",
       "    </tr>\n",
       "    <tr>\n",
       "      <th>4</th>\n",
       "      <td>08/11/2023</td>\n",
       "      <td>22.743</td>\n",
       "      <td>48043.0</td>\n",
       "      <td>22.760</td>\n",
       "      <td>22.910</td>\n",
       "      <td>22.610</td>\n",
       "    </tr>\n",
       "    <tr>\n",
       "      <th>3</th>\n",
       "      <td>08/14/2023</td>\n",
       "      <td>22.708</td>\n",
       "      <td>51908.0</td>\n",
       "      <td>22.740</td>\n",
       "      <td>22.820</td>\n",
       "      <td>22.410</td>\n",
       "    </tr>\n",
       "    <tr>\n",
       "      <th>2</th>\n",
       "      <td>08/15/2023</td>\n",
       "      <td>22.656</td>\n",
       "      <td>60396.0</td>\n",
       "      <td>22.650</td>\n",
       "      <td>22.770</td>\n",
       "      <td>22.265</td>\n",
       "    </tr>\n",
       "    <tr>\n",
       "      <th>1</th>\n",
       "      <td>08/16/2023</td>\n",
       "      <td>22.856</td>\n",
       "      <td>10802.0</td>\n",
       "      <td>22.905</td>\n",
       "      <td>23.170</td>\n",
       "      <td>22.770</td>\n",
       "    </tr>\n",
       "    <tr>\n",
       "      <th>0</th>\n",
       "      <td>08/17/2023</td>\n",
       "      <td>23.042</td>\n",
       "      <td>11441.0</td>\n",
       "      <td>22.800</td>\n",
       "      <td>23.385</td>\n",
       "      <td>22.725</td>\n",
       "    </tr>\n",
       "  </tbody>\n",
       "</table>\n",
       "<p>2539 rows × 6 columns</p>\n",
       "</div>"
      ],
      "text/plain": [
       "            Date  Close/Last   Volume    Open    High     Low\n",
       "2538  08/19/2013      23.215   8249.0  23.330  23.640  23.010\n",
       "2537  08/20/2013      23.118  14280.0  23.200  23.350  22.320\n",
       "2536  08/21/2013      23.009   7326.0  23.020  23.400  22.810\n",
       "2535  08/22/2013      23.080  12238.0  22.920  23.365  22.500\n",
       "2534  08/23/2013      23.781  20102.0  23.235  24.140  22.935\n",
       "...          ...         ...      ...     ...     ...     ...\n",
       "4     08/11/2023      22.743  48043.0  22.760  22.910  22.610\n",
       "3     08/14/2023      22.708  51908.0  22.740  22.820  22.410\n",
       "2     08/15/2023      22.656  60396.0  22.650  22.770  22.265\n",
       "1     08/16/2023      22.856  10802.0  22.905  23.170  22.770\n",
       "0     08/17/2023      23.042  11441.0  22.800  23.385  22.725\n",
       "\n",
       "[2539 rows x 6 columns]"
      ]
     },
     "execution_count": 57,
     "metadata": {},
     "output_type": "execute_result"
    }
   ],
   "source": [
    "#Display DataFrame for silver prices\n",
    "silver_df[::-1]"
   ]
  },
  {
   "cell_type": "markdown",
   "id": "77921f61-dda3-4f58-82e7-b0e6a219d9b4",
   "metadata": {
    "tags": []
   },
   "source": [
    "### Step 3: I want to check if my data is ready to be used."
   ]
  },
  {
   "cell_type": "code",
   "execution_count": 116,
   "id": "542de197",
   "metadata": {},
   "outputs": [
    {
     "name": "stdout",
     "output_type": "stream",
     "text": [
      "<class 'pandas.core.frame.DataFrame'>\n",
      "RangeIndex: 2539 entries, 0 to 2538\n",
      "Data columns (total 6 columns):\n",
      " #   Column      Non-Null Count  Dtype  \n",
      "---  ------      --------------  -----  \n",
      " 0   Date        2539 non-null   object \n",
      " 1   Close/Last  2539 non-null   float64\n",
      " 2   Volume      2511 non-null   float64\n",
      " 3   Open        2539 non-null   float64\n",
      " 4   High        2539 non-null   float64\n",
      " 5   Low         2539 non-null   float64\n",
      "dtypes: float64(5), object(1)\n",
      "memory usage: 119.1+ KB\n"
     ]
    }
   ],
   "source": [
    "gold_df.info()"
   ]
  },
  {
   "cell_type": "code",
   "execution_count": 9,
   "id": "bbea19ea",
   "metadata": {},
   "outputs": [
    {
     "name": "stdout",
     "output_type": "stream",
     "text": [
      "<class 'pandas.core.frame.DataFrame'>\n",
      "RangeIndex: 2539 entries, 0 to 2538\n",
      "Data columns (total 6 columns):\n",
      " #   Column      Non-Null Count  Dtype  \n",
      "---  ------      --------------  -----  \n",
      " 0   Date        2539 non-null   object \n",
      " 1   Close/Last  2539 non-null   float64\n",
      " 2   Volume      2476 non-null   float64\n",
      " 3   Open        2539 non-null   float64\n",
      " 4   High        2539 non-null   float64\n",
      " 5   Low         2539 non-null   float64\n",
      "dtypes: float64(5), object(1)\n",
      "memory usage: 119.1+ KB\n"
     ]
    }
   ],
   "source": [
    "silver_df.info()"
   ]
  },
  {
   "cell_type": "markdown",
   "id": "f80aa39f-667e-4bd6-b9b4-5467fdb34ce1",
   "metadata": {},
   "source": [
    "\n",
    "### We now see that there are \"non-null\" values, this means that most of every value in the table is not missing.\n",
    "### So we are able to continue without any problems. \n",
    "### ----------------------------------------------\n"
   ]
  },
  {
   "cell_type": "markdown",
   "id": "b5c1aa47-e994-4df7-b64b-b46e22081717",
   "metadata": {},
   "source": [
    "# Question 1: What is the average price of gold/silver (Yoksean)"
   ]
  },
  {
   "cell_type": "markdown",
   "id": "5f2787c3-c14b-421e-974e-f0997c74d503",
   "metadata": {},
   "source": [
    "## We want to find the average price of gold/silver\n",
    "## from 2013 - 2023"
   ]
  },
  {
   "cell_type": "code",
   "execution_count": 119,
   "id": "ab8ca3a9-c411-435a-8c66-25a50bb5cec5",
   "metadata": {
    "tags": []
   },
   "outputs": [
    {
     "data": {
      "text/plain": [
       "1467.437455691217"
      ]
     },
     "execution_count": 119,
     "metadata": {},
     "output_type": "execute_result"
    }
   ],
   "source": [
    "gold_df['Close/Last'].mean()"
   ]
  },
  {
   "cell_type": "code",
   "execution_count": 120,
   "id": "e75876d1-36a9-480f-ba46-7b75448996fb",
   "metadata": {
    "tags": []
   },
   "outputs": [
    {
     "data": {
      "text/plain": [
       "19.1320791650256"
      ]
     },
     "execution_count": 120,
     "metadata": {},
     "output_type": "execute_result"
    }
   ],
   "source": [
    "silver_df['Close/Last'].mean()"
   ]
  },
  {
   "cell_type": "markdown",
   "id": "f631bb75-bb49-45ca-8123-fe5e079bea05",
   "metadata": {},
   "source": [
    "Conclusion:\n",
    "\n",
    "With this information we can see that:\n",
    "gold has average price of $1467.43 per ounce\n",
    "silver has average price of $19.13 per ounce"
   ]
  },
  {
   "cell_type": "markdown",
   "id": "ec1b5f39-3d3a-4f85-a021-c79dce4265a2",
   "metadata": {
    "tags": []
   },
   "source": [
    "# Question 2: How many times a day does gold/silver gets traded (Vanthy)"
   ]
  },
  {
   "cell_type": "code",
   "execution_count": 160,
   "id": "8e785c09-df96-4f97-8865-af9727ca9bee",
   "metadata": {
    "tags": []
   },
   "outputs": [
    {
     "name": "stdout",
     "output_type": "stream",
     "text": [
      "<class 'pandas.core.series.Series'>\n",
      "RangeIndex: 2539 entries, 0 to 2538\n",
      "Series name: Volume\n",
      "Non-Null Count  Dtype  \n",
      "--------------  -----  \n",
      "2511 non-null   float64\n",
      "dtypes: float64(1)\n",
      "memory usage: 20.0 KB\n",
      "183765.28912783752\n"
     ]
    },
    {
     "data": {
      "text/plain": [
       "183765"
      ]
     },
     "execution_count": 160,
     "metadata": {},
     "output_type": "execute_result"
    }
   ],
   "source": [
    "gold_df['Volume'].info()\n",
    "gold_vol = gold_df['Volume'].mean()\n",
    "print(gold_vol)\n",
    "round(gold_vol)"
   ]
  },
  {
   "cell_type": "code",
   "execution_count": 159,
   "id": "972c5531-0829-477c-a5d0-43f24697752d",
   "metadata": {
    "tags": []
   },
   "outputs": [
    {
     "name": "stdout",
     "output_type": "stream",
     "text": [
      "<class 'pandas.core.series.Series'>\n",
      "RangeIndex: 2539 entries, 0 to 2538\n",
      "Series name: Volume\n",
      "Non-Null Count  Dtype  \n",
      "--------------  -----  \n",
      "2476 non-null   float64\n",
      "dtypes: float64(1)\n",
      "memory usage: 20.0 KB\n",
      "56836.89781906301\n"
     ]
    },
    {
     "data": {
      "text/plain": [
       "56837"
      ]
     },
     "execution_count": 159,
     "metadata": {},
     "output_type": "execute_result"
    }
   ],
   "source": [
    "silver_df['Volume'].info()\n",
    "silver_vol = silver_df['Volume'].mean()\n",
    "print(silver_vol)\n",
    "round(silver_vol)"
   ]
  },
  {
   "cell_type": "markdown",
   "id": "81209503-4ac5-42a0-9397-0f0f5c148020",
   "metadata": {},
   "source": [
    "### In Conclusion:\n",
    "#### Gold is traded average 183,765 times a day\n",
    "#### Silver is traded average 56,837 times a day\n",
    "#### People tend to enjoy trading gold more frequently worldwide"
   ]
  },
  {
   "cell_type": "markdown",
   "id": "a272d1cd-c3f6-458e-a209-386bc5b19c61",
   "metadata": {},
   "source": [
    "# Question 3: Standard Deviation of prices of gold/silver (Vanthy)"
   ]
  },
  {
   "cell_type": "code",
   "execution_count": 149,
   "id": "6916838f-1c96-4ed2-9bdb-d22b244939d2",
   "metadata": {
    "tags": []
   },
   "outputs": [
    {
     "data": {
      "text/plain": [
       "3.7501980415837273"
      ]
     },
     "execution_count": 149,
     "metadata": {},
     "output_type": "execute_result"
    }
   ],
   "source": [
    "silver_df['Close/Last'].std()"
   ]
  },
  {
   "cell_type": "markdown",
   "id": "c4ad1047-34c7-4b83-b45b-f807d43b836f",
   "metadata": {},
   "source": [
    "For example: Day 1, silver sells for $20 and Day 2, sells for $23.75"
   ]
  },
  {
   "cell_type": "code",
   "execution_count": 150,
   "id": "63530663-86db-4e0d-9a6d-5555a5df83af",
   "metadata": {
    "tags": []
   },
   "outputs": [
    {
     "data": {
      "text/plain": [
       "282.89162059408835"
      ]
     },
     "execution_count": 150,
     "metadata": {},
     "output_type": "execute_result"
    }
   ],
   "source": [
    "gold_df['Close/Last'].std()"
   ]
  },
  {
   "cell_type": "markdown",
   "id": "72cc256e-6095-4f3d-b626-63b6da5aebd9",
   "metadata": {},
   "source": [
    "For example: Day 1, gold sells for $1200 and Day 2, sells for $1482"
   ]
  },
  {
   "cell_type": "markdown",
   "id": "b818bb17-915a-4362-a6e0-e1622432ed91",
   "metadata": {},
   "source": [
    "### Conclusion:\n",
    "#### Prices of silver does not change much in the span of 10 years only 3.75 difference\n",
    "#### Prices of gold changes more than silver in the span of 10 years with 282.89 difference"
   ]
  },
  {
   "cell_type": "markdown",
   "id": "1bb6c2b3-fd3b-4eee-8c5e-76d8bd165ec0",
   "metadata": {},
   "source": [
    "# Question 4: What does the graph of gold/silver looks like? (Edward)"
   ]
  },
  {
   "cell_type": "code",
   "execution_count": 96,
   "id": "88737df1",
   "metadata": {
    "tags": []
   },
   "outputs": [
    {
     "data": {
      "image/png": "[encoded data removed]",
      "text/plain": [
       "<Figure size 640x480 with 1 Axes>"
      ]
     },
     "metadata": {},
     "output_type": "display_data"
    },
    {
     "data": {
      "text/plain": [
       "<Figure size 640x480 with 0 Axes>"
      ]
     },
     "metadata": {},
     "output_type": "display_data"
    }
   ],
   "source": [
    "#Title for silver selling prices\n",
    "plt.title(\"Silver selling price index\")\n",
    "\n",
    "#Names for x and y axis\n",
    "plt.xlabel('Date')\n",
    "plt.ylabel('Price')\n",
    "\n",
    "#Plot the x and y into a graph [::-1] is to reverse the date into chornological order\n",
    "silver_plot = plt.plot(silver_df[::-1][\"Date\"][:-1], silver_df[::-1][\"Close/Last\"][:-1])\n",
    "\n",
    "#Show the plot\n",
    "plt.show(silver_plot)\n",
    "\n",
    "#Save figure of the plot\n",
    "plt.savefig(\"silver_plot_1.png\", format= 'png', dpi = 2000)\n"
   ]
  },
  {
   "cell_type": "markdown",
   "id": "738a03be-ae7c-4e9e-976c-56a500a4dab9",
   "metadata": {},
   "source": [
    "# Question 5: Price analysis of silver/gold (Edward)"
   ]
  },
  {
   "cell_type": "markdown",
   "id": "017d9d2c-03c3-4385-b1b2-53f5cb98d9b9",
   "metadata": {
    "tags": []
   },
   "source": [
    "We can see that silver started at \n",
    "$23.22 on 08/19/2013.\n",
    "After a downfall and it returned back to the price at \n",
    "$23.04 on 08/17/2023.\n",
    "Conclusion: Silver is not a good long investment, only meant to quick trade.\n",
    "Profit: $-0.18"
   ]
  },
  {
   "cell_type": "markdown",
   "id": "65dd48c9-b6e6-49d9-abcd-49c17a6226ef",
   "metadata": {},
   "source": [
    "### For gold go to next slide"
   ]
  },
  {
   "cell_type": "code",
   "execution_count": 81,
   "id": "f577cc7d-c829-4e11-a62b-b28e0e1baaf6",
   "metadata": {
    "tags": []
   },
   "outputs": [
    {
     "data": {
      "text/html": [
       "<div>\n",
       "<style scoped>\n",
       "    .dataframe tbody tr th:only-of-type {\n",
       "        vertical-align: middle;\n",
       "    }\n",
       "\n",
       "    .dataframe tbody tr th {\n",
       "        vertical-align: top;\n",
       "    }\n",
       "\n",
       "    .dataframe thead th {\n",
       "        text-align: right;\n",
       "    }\n",
       "</style>\n",
       "<table border=\"1\" class=\"dataframe\">\n",
       "  <thead>\n",
       "    <tr style=\"text-align: right;\">\n",
       "      <th></th>\n",
       "      <th>Date</th>\n",
       "      <th>Close/Last</th>\n",
       "      <th>Volume</th>\n",
       "      <th>Open</th>\n",
       "      <th>High</th>\n",
       "      <th>Low</th>\n",
       "    </tr>\n",
       "  </thead>\n",
       "  <tbody>\n",
       "    <tr>\n",
       "      <th>2538</th>\n",
       "      <td>08/19/2013</td>\n",
       "      <td>23.215</td>\n",
       "      <td>8249.0</td>\n",
       "      <td>23.330</td>\n",
       "      <td>23.640</td>\n",
       "      <td>23.010</td>\n",
       "    </tr>\n",
       "    <tr>\n",
       "      <th>2537</th>\n",
       "      <td>08/20/2013</td>\n",
       "      <td>23.118</td>\n",
       "      <td>14280.0</td>\n",
       "      <td>23.200</td>\n",
       "      <td>23.350</td>\n",
       "      <td>22.320</td>\n",
       "    </tr>\n",
       "    <tr>\n",
       "      <th>2536</th>\n",
       "      <td>08/21/2013</td>\n",
       "      <td>23.009</td>\n",
       "      <td>7326.0</td>\n",
       "      <td>23.020</td>\n",
       "      <td>23.400</td>\n",
       "      <td>22.810</td>\n",
       "    </tr>\n",
       "    <tr>\n",
       "      <th>2535</th>\n",
       "      <td>08/22/2013</td>\n",
       "      <td>23.080</td>\n",
       "      <td>12238.0</td>\n",
       "      <td>22.920</td>\n",
       "      <td>23.365</td>\n",
       "      <td>22.500</td>\n",
       "    </tr>\n",
       "    <tr>\n",
       "      <th>2534</th>\n",
       "      <td>08/23/2013</td>\n",
       "      <td>23.781</td>\n",
       "      <td>20102.0</td>\n",
       "      <td>23.235</td>\n",
       "      <td>24.140</td>\n",
       "      <td>22.935</td>\n",
       "    </tr>\n",
       "    <tr>\n",
       "      <th>...</th>\n",
       "      <td>...</td>\n",
       "      <td>...</td>\n",
       "      <td>...</td>\n",
       "      <td>...</td>\n",
       "      <td>...</td>\n",
       "      <td>...</td>\n",
       "    </tr>\n",
       "    <tr>\n",
       "      <th>4</th>\n",
       "      <td>08/11/2023</td>\n",
       "      <td>22.743</td>\n",
       "      <td>48043.0</td>\n",
       "      <td>22.760</td>\n",
       "      <td>22.910</td>\n",
       "      <td>22.610</td>\n",
       "    </tr>\n",
       "    <tr>\n",
       "      <th>3</th>\n",
       "      <td>08/14/2023</td>\n",
       "      <td>22.708</td>\n",
       "      <td>51908.0</td>\n",
       "      <td>22.740</td>\n",
       "      <td>22.820</td>\n",
       "      <td>22.410</td>\n",
       "    </tr>\n",
       "    <tr>\n",
       "      <th>2</th>\n",
       "      <td>08/15/2023</td>\n",
       "      <td>22.656</td>\n",
       "      <td>60396.0</td>\n",
       "      <td>22.650</td>\n",
       "      <td>22.770</td>\n",
       "      <td>22.265</td>\n",
       "    </tr>\n",
       "    <tr>\n",
       "      <th>1</th>\n",
       "      <td>08/16/2023</td>\n",
       "      <td>22.856</td>\n",
       "      <td>10802.0</td>\n",
       "      <td>22.905</td>\n",
       "      <td>23.170</td>\n",
       "      <td>22.770</td>\n",
       "    </tr>\n",
       "    <tr>\n",
       "      <th>0</th>\n",
       "      <td>08/17/2023</td>\n",
       "      <td>23.042</td>\n",
       "      <td>11441.0</td>\n",
       "      <td>22.800</td>\n",
       "      <td>23.385</td>\n",
       "      <td>22.725</td>\n",
       "    </tr>\n",
       "  </tbody>\n",
       "</table>\n",
       "<p>2539 rows × 6 columns</p>\n",
       "</div>"
      ],
      "text/plain": [
       "            Date  Close/Last   Volume    Open    High     Low\n",
       "2538  08/19/2013      23.215   8249.0  23.330  23.640  23.010\n",
       "2537  08/20/2013      23.118  14280.0  23.200  23.350  22.320\n",
       "2536  08/21/2013      23.009   7326.0  23.020  23.400  22.810\n",
       "2535  08/22/2013      23.080  12238.0  22.920  23.365  22.500\n",
       "2534  08/23/2013      23.781  20102.0  23.235  24.140  22.935\n",
       "...          ...         ...      ...     ...     ...     ...\n",
       "4     08/11/2023      22.743  48043.0  22.760  22.910  22.610\n",
       "3     08/14/2023      22.708  51908.0  22.740  22.820  22.410\n",
       "2     08/15/2023      22.656  60396.0  22.650  22.770  22.265\n",
       "1     08/16/2023      22.856  10802.0  22.905  23.170  22.770\n",
       "0     08/17/2023      23.042  11441.0  22.800  23.385  22.725\n",
       "\n",
       "[2539 rows x 6 columns]"
      ]
     },
     "execution_count": 81,
     "metadata": {},
     "output_type": "execute_result"
    }
   ],
   "source": [
    "silver_df[::-1]"
   ]
  },
  {
   "cell_type": "markdown",
   "id": "375536d7-3fd9-48df-a429-81be06b00f8e",
   "metadata": {},
   "source": [
    "# Question 6: Should you invest in gold or silver? (Yoksean)"
   ]
  },
  {
   "cell_type": "markdown",
   "id": "b6842bae-1561-4439-859a-c5bc36ff60bd",
   "metadata": {},
   "source": [
    "### Gold is better because the value of gold goes up more over time,\n",
    "### which mean it holds more value.\n",
    "### Where as silver's price does not change that much in the span of 10 years."
   ]
  },
  {
   "cell_type": "markdown",
   "id": "6c02247d-aea4-446f-bb6a-26adfbeb158d",
   "metadata": {},
   "source": [
    "# THANK YOU FOR LISTENING"
   ]
  },
  {
   "cell_type": "code",
   "execution_count": null,
   "id": "3d72df5a-dc80-4320-a4f7-8c6612e2a193",
   "metadata": {},
   "outputs": [],
   "source": []
  }
 ],
 "metadata": {
  "kernelspec": {
   "display_name": "Python 3 (ipykernel)",
   "language": "python",
   "name": "python3"
  },
  "language_info": {
   "codemirror_mode": {
    "name": "ipython",
    "version": 3
   },
   "file_extension": ".py",
   "mimetype": "text/x-python",
   "name": "python",
   "nbconvert_exporter": "python",
   "pygments_lexer": "ipython3",
   "version": "3.11.3"
  }
 },
 "nbformat": 4,
 "nbformat_minor": 5
}
